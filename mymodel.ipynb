{
 "cells": [
  {
   "cell_type": "code",
   "execution_count": 11,
   "metadata": {},
   "outputs": [
    {
     "data": {
      "text/plain": [
       "True"
      ]
     },
     "execution_count": 11,
     "metadata": {},
     "output_type": "execute_result"
    }
   ],
   "source": [
    "import torch\n",
    "import torchvision.models as models\n",
    "import torch.cuda                   \n",
    "from PIL import ImageFile\n",
    "from torchvision import datasets\n",
    "from torchvision.transforms import transforms\n",
    "from base.model import ResNetRS\n",
    "import copy\n",
    "from tqdm import tqdm\n",
    "import torch\n",
    "from torch.utils.data import DataLoader\n",
    "from torch import nn, optim\n",
    "import torch.cuda                   \n",
    "from typing import List, Callable, Tuple\n",
    "from base.EMA import EMA\n",
    "ImageFile.LOAD_TRUNCATED_IMAGES = True\n",
    "device = torch.device(\"cuda\" if torch.cuda.is_available() else \"cpu\")\n",
    "torch.cuda.is_available()"
   ]
  },
  {
   "cell_type": "code",
   "execution_count": 12,
   "metadata": {},
   "outputs": [],
   "source": [
    "train_dir = 'D:/GP/Data/The IQ-OTHNCCD lung cancer dataset/train/'\n",
    "valid_dir = 'D:/GP/Data/The IQ-OTHNCCD lung cancer dataset/val'\n",
    "test_dir = 'D:/GP/Data/The IQ-OTHNCCD lung cancer dataset/test/'\n",
    "train_set = train_dir\n",
    "valid_set = valid_dir\n",
    "test_set = test_dir\n",
    "batch_size=16\n",
    "shuffle=True\n",
    "num_workers=1\n",
    "\n",
    "transform = transforms.Compose([\n",
    "    transforms.Resize((224,224)),   # 调整图像大小\n",
    "    transforms.ToTensor(),  # 转换为PyTorch张量\n",
    "    transforms.Normalize(mean=[0.485, 0.456, 0.406], std=[0.229, 0.224, 0.225])  # 归一化\n",
    "])\n",
    "\n",
    "train_data = datasets.ImageFolder(train_set, transform)\n",
    "valid_data = datasets.ImageFolder(valid_set, transform)\n",
    "\n",
    "train_loader = torch.utils.data.DataLoader(train_data, batch_size=batch_size, num_workers=num_workers, shuffle=shuffle)\n",
    "valid_loader = torch.utils.data.DataLoader(valid_data, batch_size=batch_size, num_workers=num_workers, shuffle=shuffle)\n",
    "\n",
    "loaders = {\n",
    "    'train': train_loader,\n",
    "    'val': valid_loader\n",
    "}\n",
    "\n",
    "test_data = datasets.ImageFolder(test_set, transform=transform)\n",
    "\n",
    "test_loader = torch.utils.data.DataLoader(test_data, batch_size=batch_size, num_workers=num_workers, shuffle=False)"
   ]
  },
  {
   "cell_type": "code",
   "execution_count": 13,
   "metadata": {},
   "outputs": [
    {
     "name": "stdout",
     "output_type": "stream",
     "text": [
      "1071 133 133\n"
     ]
    }
   ],
   "source": [
    "print(len(train_data),len(valid_data),len(test_data))"
   ]
  },
  {
   "cell_type": "code",
   "execution_count": 21,
   "metadata": {},
   "outputs": [],
   "source": [
    "VGG16=models.mobilenet\n",
    "model=VGG16.to(device)"
   ]
  },
  {
   "cell_type": "code",
   "execution_count": 14,
   "metadata": {},
   "outputs": [],
   "source": [
    "models.resnet._COMMON_META['categories']=3\n",
    "resnet50=models.resnet50(weights=None)\n",
    "model=resnet50.to(device)"
   ]
  },
  {
   "cell_type": "code",
   "execution_count": 4,
   "metadata": {},
   "outputs": [],
   "source": [
    "mymodel=ResNetRS([3, 4, 23, 3], num_class=4)\n",
    "model=mymodel.to(device)"
   ]
  },
  {
   "cell_type": "code",
   "execution_count": 22,
   "metadata": {},
   "outputs": [],
   "source": [
    "n_epochs         = 100\n",
    "lr               = 0.001\n",
    "model_name       = 'mymodel'\n",
    "criterion = torch.nn.CrossEntropyLoss()\n",
    "optimizer = optim.SGD(model.parameters(), lr, momentum=0.9)\n",
    "T_max = 40\n",
    "eta_min = 1e-6\n",
    "exp_lr_scheduler = optim.lr_scheduler.CosineAnnealingLR(optimizer, T_max=T_max, eta_min=eta_min)\n",
    "ema = EMA(model.parameters(), decay_rate=0.995, num_updates=0)"
   ]
  },
  {
   "cell_type": "code",
   "execution_count": 23,
   "metadata": {},
   "outputs": [],
   "source": [
    "def train_model(model: nn.Module, criterion: Callable, optimizer: optim.Optimizer,\n",
    "                scheduler: optim.lr_scheduler, loaders: List[DataLoader], num_epochs: int = 10\n",
    "               ) -> Tuple[nn.Module, List[float], List[float]]:  \n",
    "    \"\"\"\n",
    "    Train a model on a dataset.\n",
    "\n",
    "    Args:\n",
    "      model: The model to train.\n",
    "      criterion: The loss function.\n",
    "      optimizer: The optimizer.\n",
    "      scheduler: The learning_rate scheduler\n",
    "      loaders: The training dataloader.\n",
    "      num_epochs: The number of epochs to train for.\n",
    "\n",
    "    Returns:\n",
    "      A list of three elements. The first element is the model, the second element is a list of training losses, and the third element is a list of validation losses.\n",
    "    \"\"\"\n",
    "    best_model_wts = copy.deepcopy(model.state_dict())\n",
    "    best_acc = 0.0\n",
    "    patience = 25\n",
    "    counter = 0\n",
    "    train_loss = []\n",
    "    valid_loss = []\n",
    "    \n",
    "    for epoch in range(num_epochs):\n",
    "        \n",
    "        print(f'Epoch {epoch}/{num_epochs - 1}')\n",
    "        print('-' * 10)\n",
    "                     \n",
    "        # Training Phase\n",
    "        model.train()\n",
    "        running_corrects_T = 0\n",
    "        running_loss_T = 0.0\n",
    "        ns_T = 0\n",
    "        train_dl = loaders['train']\n",
    "        \n",
    "        with tqdm(train_dl, desc=f\"Training Epoch {epoch+1}\") as pbar:\n",
    "\n",
    "            for images, labels in pbar:\n",
    "                images, labels = images.to(device), labels.to(device)\n",
    "                optimizer.zero_grad()\n",
    "                outp = model(images)\n",
    "                _, pred = torch.max(outp, 1)\n",
    "                loss = criterion(outp, labels)\n",
    "\n",
    "                loss.backward()\n",
    "                optimizer.step()\n",
    "                ema.update(model.parameters())\n",
    "\n",
    "                running_loss_T += loss.item() * images.size(0)\n",
    "                running_corrects_T += torch.sum(pred == labels.data)\n",
    "                ns_T += pred.shape[0]\n",
    "                \n",
    "                acc_value = running_corrects_T.double() / ns_T\n",
    "                loss_value = running_loss_T/ ns_T\n",
    "                metrics = {\"Batch\":f\"Batch_{ns_T}\",\"Train Accuracy\":f\"{acc_value:.3f}\",\n",
    "                           \"Train Loss\":f\"{loss_value:.3f}\"}\n",
    "                pbar.set_postfix(metrics)\n",
    "                \n",
    "        # Validation Phase\n",
    "        model.eval()\n",
    "\n",
    "        ns_V = 0\n",
    "        running_corrects_V = 0\n",
    "        running_loss_V = 0.0\n",
    "        valid_dl = loaders['val']\n",
    "        \n",
    "        with torch.no_grad():\n",
    "            with tqdm(valid_dl, desc=f\"Validation Epoch {epoch+1}\") as pbar:\n",
    "\n",
    "                for images, labels in pbar:\n",
    "                    images, labels = images.to(device), labels.to(device)\n",
    "                    optimizer.zero_grad()\n",
    "                    ema.store(model.parameters())\n",
    "                    ema.copy(model.parameters())\n",
    "\n",
    "                    outp = model(images)\n",
    "                    _, pred = torch.max(outp, 1)\n",
    "                    val_loss = criterion(outp, labels)\n",
    "                    ema.copy_back(model.parameters())\n",
    "\n",
    "                    running_loss_V += val_loss.item() * images.size(0)\n",
    "                    ns_V += pred.shape[0]\n",
    "                    running_corrects_V += torch.sum(pred == labels.data)\n",
    "\n",
    "                    acc_value = running_corrects_V.double() / ns_V\n",
    "                    loss_value = running_loss_V/ ns_V\n",
    "\n",
    "                    metrics = {\"Val Accuracy\":f\"{acc_value:.3f}\",\"Val Loss\":f\"{loss_value:.3f}\"}\n",
    "                    pbar.set_postfix(metrics)\n",
    "                \n",
    "        Train_loss = running_loss_T / len(train_dl.dataset)\n",
    "        train_loss.append(Train_loss)\n",
    "        Valid_loss = running_loss_V / len(valid_dl.dataset)\n",
    "        valid_loss.append(Valid_loss)\n",
    "        Train_acc = running_corrects_T.double() / ns_T\n",
    "        Valid_acc = running_corrects_V.double() / ns_V\n",
    "        \n",
    "        scheduler.step()\n",
    "        print(f'Train Loss: {Train_loss:.4f} Train Acc: {Train_acc:.4f} Valid Loss: {Valid_loss:.4f} Valid Acc: {Valid_acc:.4f}')\n",
    "    \n",
    "        if Valid_acc > best_acc and epoch >20:\n",
    "            best_acc = Valid_acc\n",
    "            best_model_wts = copy.deepcopy(model.state_dict())\n",
    "            checkpoint = {\"state_dict\": model.state_dict(), \"optimizer\": optimizer.state_dict()}\n",
    "            \n",
    "            counter = 0\n",
    "        else:\n",
    "            counter += 1\n",
    "            if counter >= patience:\n",
    "                print(\"Early stopping\")\n",
    "                break\n",
    "            \n",
    "            \n",
    "    print('Best accuracy {}'.format(best_acc))            \n",
    "    model.load_state_dict(best_model_wts)\n",
    "    return model, train_loss, valid_loss"
   ]
  },
  {
   "cell_type": "code",
   "execution_count": null,
   "metadata": {},
   "outputs": [],
   "source": [
    "# n_epochs         = 200\n",
    "# model_name       = 'mymodel'\n",
    "# criterion = torch.nn.CrossEntropyLoss()\n",
    "# optimizer = optim.Adam(model.parameters(), lr=0.001)\n",
    "# T_max = 20\n",
    "# eta_min = 1e-6\n",
    "# exp_lr_scheduler = optim.lr_scheduler.CosineAnnealingLR(optimizer, T_max=T_max, eta_min=eta_min)"
   ]
  },
  {
   "cell_type": "code",
   "execution_count": 24,
   "metadata": {},
   "outputs": [
    {
     "name": "stdout",
     "output_type": "stream",
     "text": [
      "Epoch 0/99\n",
      "----------\n"
     ]
    },
    {
     "name": "stderr",
     "output_type": "stream",
     "text": [
      "Training Epoch 1: 100%|██████████| 67/67 [02:53<00:00,  2.59s/it, Batch=Batch_1071, Train Accuracy=0.401, Train Loss=1.085]\n",
      "Validation Epoch 1: 100%|██████████| 9/9 [00:09<00:00,  1.04s/it, Val Accuracy=0.421, Val Loss=1.062]\n"
     ]
    },
    {
     "name": "stdout",
     "output_type": "stream",
     "text": [
      "Train Loss: 1.0852 Train Acc: 0.4006 Valid Loss: 1.0625 Valid Acc: 0.4211\n",
      "Epoch 1/99\n",
      "----------\n"
     ]
    },
    {
     "name": "stderr",
     "output_type": "stream",
     "text": [
      "Training Epoch 2: 100%|██████████| 67/67 [02:51<00:00,  2.56s/it, Batch=Batch_1071, Train Accuracy=0.446, Train Loss=1.051]\n",
      "Validation Epoch 2: 100%|██████████| 9/9 [00:08<00:00,  1.08it/s, Val Accuracy=0.571, Val Loss=0.990]\n"
     ]
    },
    {
     "name": "stdout",
     "output_type": "stream",
     "text": [
      "Train Loss: 1.0508 Train Acc: 0.4463 Valid Loss: 0.9902 Valid Acc: 0.5714\n",
      "Epoch 2/99\n",
      "----------\n"
     ]
    },
    {
     "name": "stderr",
     "output_type": "stream",
     "text": [
      "Training Epoch 3: 100%|██████████| 67/67 [02:42<00:00,  2.42s/it, Batch=Batch_1071, Train Accuracy=0.523, Train Loss=0.968]\n",
      "Validation Epoch 3: 100%|██████████| 9/9 [00:08<00:00,  1.07it/s, Val Accuracy=0.654, Val Loss=0.832]\n"
     ]
    },
    {
     "name": "stdout",
     "output_type": "stream",
     "text": [
      "Train Loss: 0.9684 Train Acc: 0.5229 Valid Loss: 0.8320 Valid Acc: 0.6541\n",
      "Epoch 3/99\n",
      "----------\n"
     ]
    },
    {
     "name": "stderr",
     "output_type": "stream",
     "text": [
      "Training Epoch 4: 100%|██████████| 67/67 [02:46<00:00,  2.49s/it, Batch=Batch_1071, Train Accuracy=0.593, Train Loss=0.897]\n",
      "Validation Epoch 4: 100%|██████████| 9/9 [00:08<00:00,  1.01it/s, Val Accuracy=0.669, Val Loss=0.743]\n"
     ]
    },
    {
     "name": "stdout",
     "output_type": "stream",
     "text": [
      "Train Loss: 0.8974 Train Acc: 0.5929 Valid Loss: 0.7425 Valid Acc: 0.6692\n",
      "Epoch 4/99\n",
      "----------\n"
     ]
    },
    {
     "name": "stderr",
     "output_type": "stream",
     "text": [
      "Training Epoch 5: 100%|██████████| 67/67 [03:02<00:00,  2.72s/it, Batch=Batch_1071, Train Accuracy=0.660, Train Loss=0.776]\n",
      "Validation Epoch 5: 100%|██████████| 9/9 [00:09<00:00,  1.04s/it, Val Accuracy=0.722, Val Loss=0.646]\n"
     ]
    },
    {
     "name": "stdout",
     "output_type": "stream",
     "text": [
      "Train Loss: 0.7764 Train Acc: 0.6601 Valid Loss: 0.6462 Valid Acc: 0.7218\n",
      "Epoch 5/99\n",
      "----------\n"
     ]
    },
    {
     "name": "stderr",
     "output_type": "stream",
     "text": [
      "Training Epoch 6: 100%|██████████| 67/67 [03:01<00:00,  2.71s/it, Batch=Batch_1071, Train Accuracy=0.743, Train Loss=0.633]\n",
      "Validation Epoch 6: 100%|██████████| 9/9 [00:09<00:00,  1.00s/it, Val Accuracy=0.774, Val Loss=0.543]\n"
     ]
    },
    {
     "name": "stdout",
     "output_type": "stream",
     "text": [
      "Train Loss: 0.6332 Train Acc: 0.7432 Valid Loss: 0.5425 Valid Acc: 0.7744\n",
      "Epoch 6/99\n",
      "----------\n"
     ]
    },
    {
     "name": "stderr",
     "output_type": "stream",
     "text": [
      "Training Epoch 7: 100%|██████████| 67/67 [03:00<00:00,  2.70s/it, Batch=Batch_1071, Train Accuracy=0.747, Train Loss=0.623]\n",
      "Validation Epoch 7: 100%|██████████| 9/9 [00:08<00:00,  1.00it/s, Val Accuracy=0.850, Val Loss=0.485]\n"
     ]
    },
    {
     "name": "stdout",
     "output_type": "stream",
     "text": [
      "Train Loss: 0.6227 Train Acc: 0.7470 Valid Loss: 0.4848 Valid Acc: 0.8496\n",
      "Epoch 7/99\n",
      "----------\n"
     ]
    },
    {
     "name": "stderr",
     "output_type": "stream",
     "text": [
      "Training Epoch 8: 100%|██████████| 67/67 [03:01<00:00,  2.72s/it, Batch=Batch_1071, Train Accuracy=0.807, Train Loss=0.479]\n",
      "Validation Epoch 8: 100%|██████████| 9/9 [00:09<00:00,  1.04s/it, Val Accuracy=0.857, Val Loss=0.417]\n"
     ]
    },
    {
     "name": "stdout",
     "output_type": "stream",
     "text": [
      "Train Loss: 0.4788 Train Acc: 0.8067 Valid Loss: 0.4173 Valid Acc: 0.8571\n",
      "Epoch 8/99\n",
      "----------\n"
     ]
    },
    {
     "name": "stderr",
     "output_type": "stream",
     "text": [
      "Training Epoch 9: 100%|██████████| 67/67 [03:02<00:00,  2.72s/it, Batch=Batch_1071, Train Accuracy=0.840, Train Loss=0.378]\n",
      "Validation Epoch 9: 100%|██████████| 9/9 [00:09<00:00,  1.04s/it, Val Accuracy=0.872, Val Loss=0.386]\n"
     ]
    },
    {
     "name": "stdout",
     "output_type": "stream",
     "text": [
      "Train Loss: 0.3777 Train Acc: 0.8403 Valid Loss: 0.3860 Valid Acc: 0.8722\n",
      "Epoch 9/99\n",
      "----------\n"
     ]
    },
    {
     "name": "stderr",
     "output_type": "stream",
     "text": [
      "Training Epoch 10: 100%|██████████| 67/67 [03:00<00:00,  2.69s/it, Batch=Batch_1071, Train Accuracy=0.846, Train Loss=0.395]\n",
      "Validation Epoch 10: 100%|██████████| 9/9 [00:08<00:00,  1.03it/s, Val Accuracy=0.880, Val Loss=0.338]\n"
     ]
    },
    {
     "name": "stdout",
     "output_type": "stream",
     "text": [
      "Train Loss: 0.3948 Train Acc: 0.8459 Valid Loss: 0.3380 Valid Acc: 0.8797\n",
      "Epoch 10/99\n",
      "----------\n"
     ]
    },
    {
     "name": "stderr",
     "output_type": "stream",
     "text": [
      "Training Epoch 11: 100%|██████████| 67/67 [02:54<00:00,  2.60s/it, Batch=Batch_1071, Train Accuracy=0.901, Train Loss=0.265]\n",
      "Validation Epoch 11: 100%|██████████| 9/9 [00:08<00:00,  1.06it/s, Val Accuracy=0.880, Val Loss=0.317]\n"
     ]
    },
    {
     "name": "stdout",
     "output_type": "stream",
     "text": [
      "Train Loss: 0.2648 Train Acc: 0.9010 Valid Loss: 0.3169 Valid Acc: 0.8797\n",
      "Epoch 11/99\n",
      "----------\n"
     ]
    },
    {
     "name": "stderr",
     "output_type": "stream",
     "text": [
      "Training Epoch 12: 100%|██████████| 67/67 [02:56<00:00,  2.63s/it, Batch=Batch_1071, Train Accuracy=0.903, Train Loss=0.245]\n",
      "Validation Epoch 12: 100%|██████████| 9/9 [00:08<00:00,  1.00it/s, Val Accuracy=0.880, Val Loss=0.297]\n"
     ]
    },
    {
     "name": "stdout",
     "output_type": "stream",
     "text": [
      "Train Loss: 0.2452 Train Acc: 0.9029 Valid Loss: 0.2969 Valid Acc: 0.8797\n",
      "Epoch 12/99\n",
      "----------\n"
     ]
    },
    {
     "name": "stderr",
     "output_type": "stream",
     "text": [
      "Training Epoch 13: 100%|██████████| 67/67 [02:54<00:00,  2.60s/it, Batch=Batch_1071, Train Accuracy=0.921, Train Loss=0.212]\n",
      "Validation Epoch 13: 100%|██████████| 9/9 [00:09<00:00,  1.02s/it, Val Accuracy=0.910, Val Loss=0.276]\n"
     ]
    },
    {
     "name": "stdout",
     "output_type": "stream",
     "text": [
      "Train Loss: 0.2117 Train Acc: 0.9206 Valid Loss: 0.2757 Valid Acc: 0.9098\n",
      "Epoch 13/99\n",
      "----------\n"
     ]
    },
    {
     "name": "stderr",
     "output_type": "stream",
     "text": [
      "Training Epoch 14: 100%|██████████| 67/67 [02:54<00:00,  2.60s/it, Batch=Batch_1071, Train Accuracy=0.939, Train Loss=0.165]\n",
      "Validation Epoch 14: 100%|██████████| 9/9 [00:08<00:00,  1.00it/s, Val Accuracy=0.925, Val Loss=0.270]\n"
     ]
    },
    {
     "name": "stdout",
     "output_type": "stream",
     "text": [
      "Train Loss: 0.1649 Train Acc: 0.9393 Valid Loss: 0.2700 Valid Acc: 0.9248\n",
      "Epoch 14/99\n",
      "----------\n"
     ]
    },
    {
     "name": "stderr",
     "output_type": "stream",
     "text": [
      "Training Epoch 15: 100%|██████████| 67/67 [02:51<00:00,  2.57s/it, Batch=Batch_1071, Train Accuracy=0.942, Train Loss=0.149]\n",
      "Validation Epoch 15: 100%|██████████| 9/9 [00:08<00:00,  1.00it/s, Val Accuracy=0.940, Val Loss=0.257]\n"
     ]
    },
    {
     "name": "stdout",
     "output_type": "stream",
     "text": [
      "Train Loss: 0.1491 Train Acc: 0.9421 Valid Loss: 0.2574 Valid Acc: 0.9398\n",
      "Epoch 15/99\n",
      "----------\n"
     ]
    },
    {
     "name": "stderr",
     "output_type": "stream",
     "text": [
      "Training Epoch 16: 100%|██████████| 67/67 [02:51<00:00,  2.55s/it, Batch=Batch_1071, Train Accuracy=0.961, Train Loss=0.105]\n",
      "Validation Epoch 16: 100%|██████████| 9/9 [00:08<00:00,  1.04it/s, Val Accuracy=0.955, Val Loss=0.249]\n"
     ]
    },
    {
     "name": "stdout",
     "output_type": "stream",
     "text": [
      "Train Loss: 0.1051 Train Acc: 0.9608 Valid Loss: 0.2486 Valid Acc: 0.9549\n",
      "Epoch 16/99\n",
      "----------\n"
     ]
    },
    {
     "name": "stderr",
     "output_type": "stream",
     "text": [
      "Training Epoch 17: 100%|██████████| 67/67 [02:47<00:00,  2.50s/it, Batch=Batch_1071, Train Accuracy=0.967, Train Loss=0.076]\n",
      "Validation Epoch 17: 100%|██████████| 9/9 [00:08<00:00,  1.01it/s, Val Accuracy=0.962, Val Loss=0.246]\n"
     ]
    },
    {
     "name": "stdout",
     "output_type": "stream",
     "text": [
      "Train Loss: 0.0760 Train Acc: 0.9673 Valid Loss: 0.2455 Valid Acc: 0.9624\n",
      "Epoch 17/99\n",
      "----------\n"
     ]
    },
    {
     "name": "stderr",
     "output_type": "stream",
     "text": [
      "Training Epoch 18: 100%|██████████| 67/67 [02:46<00:00,  2.48s/it, Batch=Batch_1071, Train Accuracy=0.947, Train Loss=0.158]\n",
      "Validation Epoch 18: 100%|██████████| 9/9 [00:08<00:00,  1.08it/s, Val Accuracy=0.977, Val Loss=0.237]\n"
     ]
    },
    {
     "name": "stdout",
     "output_type": "stream",
     "text": [
      "Train Loss: 0.1578 Train Acc: 0.9468 Valid Loss: 0.2372 Valid Acc: 0.9774\n",
      "Epoch 18/99\n",
      "----------\n"
     ]
    },
    {
     "name": "stderr",
     "output_type": "stream",
     "text": [
      "Training Epoch 19: 100%|██████████| 67/67 [02:43<00:00,  2.44s/it, Batch=Batch_1071, Train Accuracy=0.977, Train Loss=0.084]\n",
      "Validation Epoch 19: 100%|██████████| 9/9 [00:08<00:00,  1.06it/s, Val Accuracy=0.977, Val Loss=0.229]\n"
     ]
    },
    {
     "name": "stdout",
     "output_type": "stream",
     "text": [
      "Train Loss: 0.0837 Train Acc: 0.9767 Valid Loss: 0.2292 Valid Acc: 0.9774\n",
      "Epoch 19/99\n",
      "----------\n"
     ]
    },
    {
     "name": "stderr",
     "output_type": "stream",
     "text": [
      "Training Epoch 20: 100%|██████████| 67/67 [02:49<00:00,  2.53s/it, Batch=Batch_1071, Train Accuracy=0.992, Train Loss=0.031]\n",
      "Validation Epoch 20: 100%|██████████| 9/9 [00:08<00:00,  1.01it/s, Val Accuracy=0.970, Val Loss=0.232]\n"
     ]
    },
    {
     "name": "stdout",
     "output_type": "stream",
     "text": [
      "Train Loss: 0.0306 Train Acc: 0.9916 Valid Loss: 0.2321 Valid Acc: 0.9699\n",
      "Epoch 20/99\n",
      "----------\n"
     ]
    },
    {
     "name": "stderr",
     "output_type": "stream",
     "text": [
      "Training Epoch 21: 100%|██████████| 67/67 [02:52<00:00,  2.57s/it, Batch=Batch_1071, Train Accuracy=0.991, Train Loss=0.027]\n",
      "Validation Epoch 21: 100%|██████████| 9/9 [00:08<00:00,  1.02it/s, Val Accuracy=0.970, Val Loss=0.240]\n"
     ]
    },
    {
     "name": "stdout",
     "output_type": "stream",
     "text": [
      "Train Loss: 0.0275 Train Acc: 0.9907 Valid Loss: 0.2403 Valid Acc: 0.9699\n",
      "Epoch 21/99\n",
      "----------\n"
     ]
    },
    {
     "name": "stderr",
     "output_type": "stream",
     "text": [
      "Training Epoch 22: 100%|██████████| 67/67 [02:52<00:00,  2.57s/it, Batch=Batch_1071, Train Accuracy=0.991, Train Loss=0.030]\n",
      "Validation Epoch 22: 100%|██████████| 9/9 [00:08<00:00,  1.03it/s, Val Accuracy=0.970, Val Loss=0.249]\n"
     ]
    },
    {
     "name": "stdout",
     "output_type": "stream",
     "text": [
      "Train Loss: 0.0299 Train Acc: 0.9907 Valid Loss: 0.2488 Valid Acc: 0.9699\n",
      "Epoch 22/99\n",
      "----------\n"
     ]
    },
    {
     "name": "stderr",
     "output_type": "stream",
     "text": [
      "Training Epoch 23: 100%|██████████| 67/67 [02:45<00:00,  2.46s/it, Batch=Batch_1071, Train Accuracy=0.990, Train Loss=0.034]\n",
      "Validation Epoch 23: 100%|██████████| 9/9 [00:08<00:00,  1.03it/s, Val Accuracy=0.977, Val Loss=0.245]\n"
     ]
    },
    {
     "name": "stdout",
     "output_type": "stream",
     "text": [
      "Train Loss: 0.0342 Train Acc: 0.9897 Valid Loss: 0.2450 Valid Acc: 0.9774\n",
      "Epoch 23/99\n",
      "----------\n"
     ]
    },
    {
     "name": "stderr",
     "output_type": "stream",
     "text": [
      "Training Epoch 24: 100%|██████████| 67/67 [02:44<00:00,  2.46s/it, Batch=Batch_1071, Train Accuracy=0.990, Train Loss=0.034]\n",
      "Validation Epoch 24: 100%|██████████| 9/9 [00:08<00:00,  1.05it/s, Val Accuracy=0.977, Val Loss=0.237]\n"
     ]
    },
    {
     "name": "stdout",
     "output_type": "stream",
     "text": [
      "Train Loss: 0.0342 Train Acc: 0.9897 Valid Loss: 0.2371 Valid Acc: 0.9774\n",
      "Epoch 24/99\n",
      "----------\n"
     ]
    },
    {
     "name": "stderr",
     "output_type": "stream",
     "text": [
      "Training Epoch 25: 100%|██████████| 67/67 [02:44<00:00,  2.46s/it, Batch=Batch_1071, Train Accuracy=0.993, Train Loss=0.022]\n",
      "Validation Epoch 25: 100%|██████████| 9/9 [00:08<00:00,  1.05it/s, Val Accuracy=0.977, Val Loss=0.236]\n"
     ]
    },
    {
     "name": "stdout",
     "output_type": "stream",
     "text": [
      "Train Loss: 0.0222 Train Acc: 0.9925 Valid Loss: 0.2364 Valid Acc: 0.9774\n",
      "Epoch 25/99\n",
      "----------\n"
     ]
    },
    {
     "name": "stderr",
     "output_type": "stream",
     "text": [
      "Training Epoch 26: 100%|██████████| 67/67 [02:50<00:00,  2.55s/it, Batch=Batch_1071, Train Accuracy=0.996, Train Loss=0.014]\n",
      "Validation Epoch 26: 100%|██████████| 9/9 [00:08<00:00,  1.00it/s, Val Accuracy=0.977, Val Loss=0.234]\n"
     ]
    },
    {
     "name": "stdout",
     "output_type": "stream",
     "text": [
      "Train Loss: 0.0141 Train Acc: 0.9963 Valid Loss: 0.2340 Valid Acc: 0.9774\n",
      "Epoch 26/99\n",
      "----------\n"
     ]
    },
    {
     "name": "stderr",
     "output_type": "stream",
     "text": [
      "Training Epoch 27: 100%|██████████| 67/67 [02:54<00:00,  2.60s/it, Batch=Batch_1071, Train Accuracy=0.997, Train Loss=0.013]\n",
      "Validation Epoch 27: 100%|██████████| 9/9 [00:08<00:00,  1.02it/s, Val Accuracy=0.977, Val Loss=0.240]\n"
     ]
    },
    {
     "name": "stdout",
     "output_type": "stream",
     "text": [
      "Train Loss: 0.0135 Train Acc: 0.9972 Valid Loss: 0.2396 Valid Acc: 0.9774\n",
      "Epoch 27/99\n",
      "----------\n"
     ]
    },
    {
     "name": "stderr",
     "output_type": "stream",
     "text": [
      "Training Epoch 28: 100%|██████████| 67/67 [02:52<00:00,  2.57s/it, Batch=Batch_1071, Train Accuracy=0.997, Train Loss=0.013]\n",
      "Validation Epoch 28: 100%|██████████| 9/9 [00:08<00:00,  1.00it/s, Val Accuracy=0.977, Val Loss=0.243]\n"
     ]
    },
    {
     "name": "stdout",
     "output_type": "stream",
     "text": [
      "Train Loss: 0.0133 Train Acc: 0.9972 Valid Loss: 0.2431 Valid Acc: 0.9774\n",
      "Epoch 28/99\n",
      "----------\n"
     ]
    },
    {
     "name": "stderr",
     "output_type": "stream",
     "text": [
      "Training Epoch 29: 100%|██████████| 67/67 [02:57<00:00,  2.64s/it, Batch=Batch_1071, Train Accuracy=0.998, Train Loss=0.006]\n",
      "Validation Epoch 29: 100%|██████████| 9/9 [00:08<00:00,  1.03it/s, Val Accuracy=0.977, Val Loss=0.243]\n"
     ]
    },
    {
     "name": "stdout",
     "output_type": "stream",
     "text": [
      "Train Loss: 0.0059 Train Acc: 0.9981 Valid Loss: 0.2426 Valid Acc: 0.9774\n",
      "Epoch 29/99\n",
      "----------\n"
     ]
    },
    {
     "name": "stderr",
     "output_type": "stream",
     "text": [
      "Training Epoch 30: 100%|██████████| 67/67 [02:55<00:00,  2.62s/it, Batch=Batch_1071, Train Accuracy=0.998, Train Loss=0.006]\n",
      "Validation Epoch 30: 100%|██████████| 9/9 [00:08<00:00,  1.02it/s, Val Accuracy=0.977, Val Loss=0.246]\n"
     ]
    },
    {
     "name": "stdout",
     "output_type": "stream",
     "text": [
      "Train Loss: 0.0057 Train Acc: 0.9981 Valid Loss: 0.2462 Valid Acc: 0.9774\n",
      "Epoch 30/99\n",
      "----------\n"
     ]
    },
    {
     "name": "stderr",
     "output_type": "stream",
     "text": [
      "Training Epoch 31: 100%|██████████| 67/67 [02:50<00:00,  2.55s/it, Batch=Batch_1071, Train Accuracy=0.999, Train Loss=0.006]\n",
      "Validation Epoch 31: 100%|██████████| 9/9 [00:08<00:00,  1.07it/s, Val Accuracy=0.977, Val Loss=0.249]\n"
     ]
    },
    {
     "name": "stdout",
     "output_type": "stream",
     "text": [
      "Train Loss: 0.0057 Train Acc: 0.9991 Valid Loss: 0.2491 Valid Acc: 0.9774\n",
      "Epoch 31/99\n",
      "----------\n"
     ]
    },
    {
     "name": "stderr",
     "output_type": "stream",
     "text": [
      "Training Epoch 32: 100%|██████████| 67/67 [02:44<00:00,  2.46s/it, Batch=Batch_1071, Train Accuracy=0.999, Train Loss=0.006]\n",
      "Validation Epoch 32: 100%|██████████| 9/9 [00:08<00:00,  1.07it/s, Val Accuracy=0.977, Val Loss=0.253]\n"
     ]
    },
    {
     "name": "stdout",
     "output_type": "stream",
     "text": [
      "Train Loss: 0.0057 Train Acc: 0.9991 Valid Loss: 0.2529 Valid Acc: 0.9774\n",
      "Epoch 32/99\n",
      "----------\n"
     ]
    },
    {
     "name": "stderr",
     "output_type": "stream",
     "text": [
      "Training Epoch 33: 100%|██████████| 67/67 [02:46<00:00,  2.49s/it, Batch=Batch_1071, Train Accuracy=0.999, Train Loss=0.004]\n",
      "Validation Epoch 33: 100%|██████████| 9/9 [00:08<00:00,  1.02it/s, Val Accuracy=0.977, Val Loss=0.258]\n"
     ]
    },
    {
     "name": "stdout",
     "output_type": "stream",
     "text": [
      "Train Loss: 0.0039 Train Acc: 0.9991 Valid Loss: 0.2576 Valid Acc: 0.9774\n",
      "Epoch 33/99\n",
      "----------\n"
     ]
    },
    {
     "name": "stderr",
     "output_type": "stream",
     "text": [
      "Training Epoch 34: 100%|██████████| 67/67 [02:45<00:00,  2.47s/it, Batch=Batch_1071, Train Accuracy=0.994, Train Loss=0.015]\n",
      "Validation Epoch 34: 100%|██████████| 9/9 [00:08<00:00,  1.07it/s, Val Accuracy=0.977, Val Loss=0.261]\n"
     ]
    },
    {
     "name": "stdout",
     "output_type": "stream",
     "text": [
      "Train Loss: 0.0145 Train Acc: 0.9944 Valid Loss: 0.2607 Valid Acc: 0.9774\n",
      "Epoch 34/99\n",
      "----------\n"
     ]
    },
    {
     "name": "stderr",
     "output_type": "stream",
     "text": [
      "Training Epoch 35: 100%|██████████| 67/67 [02:44<00:00,  2.46s/it, Batch=Batch_1071, Train Accuracy=0.996, Train Loss=0.007]\n",
      "Validation Epoch 35: 100%|██████████| 9/9 [00:08<00:00,  1.07it/s, Val Accuracy=0.977, Val Loss=0.265]\n"
     ]
    },
    {
     "name": "stdout",
     "output_type": "stream",
     "text": [
      "Train Loss: 0.0069 Train Acc: 0.9963 Valid Loss: 0.2650 Valid Acc: 0.9774\n",
      "Epoch 35/99\n",
      "----------\n"
     ]
    },
    {
     "name": "stderr",
     "output_type": "stream",
     "text": [
      "Training Epoch 36: 100%|██████████| 67/67 [02:45<00:00,  2.47s/it, Batch=Batch_1071, Train Accuracy=1.000, Train Loss=0.002]\n",
      "Validation Epoch 36: 100%|██████████| 9/9 [00:08<00:00,  1.04it/s, Val Accuracy=0.977, Val Loss=0.268]\n"
     ]
    },
    {
     "name": "stdout",
     "output_type": "stream",
     "text": [
      "Train Loss: 0.0025 Train Acc: 1.0000 Valid Loss: 0.2680 Valid Acc: 0.9774\n",
      "Epoch 36/99\n",
      "----------\n"
     ]
    },
    {
     "name": "stderr",
     "output_type": "stream",
     "text": [
      "Training Epoch 37: 100%|██████████| 67/67 [02:46<00:00,  2.49s/it, Batch=Batch_1071, Train Accuracy=0.999, Train Loss=0.004]\n",
      "Validation Epoch 37: 100%|██████████| 9/9 [00:08<00:00,  1.06it/s, Val Accuracy=0.977, Val Loss=0.270]\n"
     ]
    },
    {
     "name": "stdout",
     "output_type": "stream",
     "text": [
      "Train Loss: 0.0037 Train Acc: 0.9991 Valid Loss: 0.2696 Valid Acc: 0.9774\n",
      "Epoch 37/99\n",
      "----------\n"
     ]
    },
    {
     "name": "stderr",
     "output_type": "stream",
     "text": [
      "Training Epoch 38: 100%|██████████| 67/67 [02:44<00:00,  2.46s/it, Batch=Batch_1071, Train Accuracy=0.999, Train Loss=0.005]\n",
      "Validation Epoch 38: 100%|██████████| 9/9 [00:08<00:00,  1.07it/s, Val Accuracy=0.977, Val Loss=0.270]\n"
     ]
    },
    {
     "name": "stdout",
     "output_type": "stream",
     "text": [
      "Train Loss: 0.0047 Train Acc: 0.9991 Valid Loss: 0.2699 Valid Acc: 0.9774\n",
      "Epoch 38/99\n",
      "----------\n"
     ]
    },
    {
     "name": "stderr",
     "output_type": "stream",
     "text": [
      "Training Epoch 39: 100%|██████████| 67/67 [02:43<00:00,  2.44s/it, Batch=Batch_1071, Train Accuracy=0.998, Train Loss=0.004]\n",
      "Validation Epoch 39: 100%|██████████| 9/9 [00:08<00:00,  1.09it/s, Val Accuracy=0.977, Val Loss=0.270]\n"
     ]
    },
    {
     "name": "stdout",
     "output_type": "stream",
     "text": [
      "Train Loss: 0.0036 Train Acc: 0.9981 Valid Loss: 0.2703 Valid Acc: 0.9774\n",
      "Epoch 39/99\n",
      "----------\n"
     ]
    },
    {
     "name": "stderr",
     "output_type": "stream",
     "text": [
      "Training Epoch 40: 100%|██████████| 67/67 [02:45<00:00,  2.47s/it, Batch=Batch_1071, Train Accuracy=0.998, Train Loss=0.009]\n",
      "Validation Epoch 40: 100%|██████████| 9/9 [00:08<00:00,  1.05it/s, Val Accuracy=0.977, Val Loss=0.270]\n"
     ]
    },
    {
     "name": "stdout",
     "output_type": "stream",
     "text": [
      "Train Loss: 0.0085 Train Acc: 0.9981 Valid Loss: 0.2704 Valid Acc: 0.9774\n",
      "Epoch 40/99\n",
      "----------\n"
     ]
    },
    {
     "name": "stderr",
     "output_type": "stream",
     "text": [
      "Training Epoch 41: 100%|██████████| 67/67 [02:45<00:00,  2.46s/it, Batch=Batch_1071, Train Accuracy=1.000, Train Loss=0.003]\n",
      "Validation Epoch 41: 100%|██████████| 9/9 [00:08<00:00,  1.07it/s, Val Accuracy=0.977, Val Loss=0.270]\n"
     ]
    },
    {
     "name": "stdout",
     "output_type": "stream",
     "text": [
      "Train Loss: 0.0026 Train Acc: 1.0000 Valid Loss: 0.2705 Valid Acc: 0.9774\n",
      "Epoch 41/99\n",
      "----------\n"
     ]
    },
    {
     "name": "stderr",
     "output_type": "stream",
     "text": [
      "Training Epoch 42: 100%|██████████| 67/67 [02:44<00:00,  2.45s/it, Batch=Batch_1071, Train Accuracy=0.999, Train Loss=0.003]\n",
      "Validation Epoch 42: 100%|██████████| 9/9 [00:08<00:00,  1.06it/s, Val Accuracy=0.977, Val Loss=0.271]\n"
     ]
    },
    {
     "name": "stdout",
     "output_type": "stream",
     "text": [
      "Train Loss: 0.0033 Train Acc: 0.9991 Valid Loss: 0.2705 Valid Acc: 0.9774\n",
      "Epoch 42/99\n",
      "----------\n"
     ]
    },
    {
     "name": "stderr",
     "output_type": "stream",
     "text": [
      "Training Epoch 43: 100%|██████████| 67/67 [02:43<00:00,  2.43s/it, Batch=Batch_1071, Train Accuracy=0.998, Train Loss=0.006]\n",
      "Validation Epoch 43: 100%|██████████| 9/9 [00:08<00:00,  1.07it/s, Val Accuracy=0.977, Val Loss=0.271]\n"
     ]
    },
    {
     "name": "stdout",
     "output_type": "stream",
     "text": [
      "Train Loss: 0.0057 Train Acc: 0.9981 Valid Loss: 0.2705 Valid Acc: 0.9774\n",
      "Epoch 43/99\n",
      "----------\n"
     ]
    },
    {
     "name": "stderr",
     "output_type": "stream",
     "text": [
      "Training Epoch 44: 100%|██████████| 67/67 [02:45<00:00,  2.46s/it, Batch=Batch_1071, Train Accuracy=0.999, Train Loss=0.004]\n",
      "Validation Epoch 44: 100%|██████████| 9/9 [00:08<00:00,  1.06it/s, Val Accuracy=0.977, Val Loss=0.270]\n"
     ]
    },
    {
     "name": "stdout",
     "output_type": "stream",
     "text": [
      "Train Loss: 0.0040 Train Acc: 0.9991 Valid Loss: 0.2702 Valid Acc: 0.9774\n",
      "Epoch 44/99\n",
      "----------\n"
     ]
    },
    {
     "name": "stderr",
     "output_type": "stream",
     "text": [
      "Training Epoch 45: 100%|██████████| 67/67 [02:46<00:00,  2.48s/it, Batch=Batch_1071, Train Accuracy=0.998, Train Loss=0.005]\n",
      "Validation Epoch 45: 100%|██████████| 9/9 [00:08<00:00,  1.06it/s, Val Accuracy=0.977, Val Loss=0.270]\n"
     ]
    },
    {
     "name": "stdout",
     "output_type": "stream",
     "text": [
      "Train Loss: 0.0046 Train Acc: 0.9981 Valid Loss: 0.2701 Valid Acc: 0.9774\n",
      "Epoch 45/99\n",
      "----------\n"
     ]
    },
    {
     "name": "stderr",
     "output_type": "stream",
     "text": [
      "Training Epoch 46: 100%|██████████| 67/67 [02:45<00:00,  2.48s/it, Batch=Batch_1071, Train Accuracy=1.000, Train Loss=0.003]\n",
      "Validation Epoch 46: 100%|██████████| 9/9 [00:08<00:00,  1.06it/s, Val Accuracy=0.977, Val Loss=0.272]\n"
     ]
    },
    {
     "name": "stdout",
     "output_type": "stream",
     "text": [
      "Train Loss: 0.0032 Train Acc: 1.0000 Valid Loss: 0.2716 Valid Acc: 0.9774\n",
      "Epoch 46/99\n",
      "----------\n"
     ]
    },
    {
     "name": "stderr",
     "output_type": "stream",
     "text": [
      "Training Epoch 47: 100%|██████████| 67/67 [02:45<00:00,  2.48s/it, Batch=Batch_1071, Train Accuracy=0.999, Train Loss=0.004]\n",
      "Validation Epoch 47: 100%|██████████| 9/9 [00:08<00:00,  1.05it/s, Val Accuracy=0.977, Val Loss=0.273]\n"
     ]
    },
    {
     "name": "stdout",
     "output_type": "stream",
     "text": [
      "Train Loss: 0.0042 Train Acc: 0.9991 Valid Loss: 0.2728 Valid Acc: 0.9774\n",
      "Epoch 47/99\n",
      "----------\n"
     ]
    },
    {
     "name": "stderr",
     "output_type": "stream",
     "text": [
      "Training Epoch 48: 100%|██████████| 67/67 [02:46<00:00,  2.49s/it, Batch=Batch_1071, Train Accuracy=0.998, Train Loss=0.007]\n",
      "Validation Epoch 48: 100%|██████████| 9/9 [00:08<00:00,  1.07it/s, Val Accuracy=0.977, Val Loss=0.274]"
     ]
    },
    {
     "name": "stdout",
     "output_type": "stream",
     "text": [
      "Train Loss: 0.0071 Train Acc: 0.9981 Valid Loss: 0.2735 Valid Acc: 0.9774\n",
      "Early stopping\n",
      "Best accuracy 0.9774436090225563\n"
     ]
    },
    {
     "name": "stderr",
     "output_type": "stream",
     "text": [
      "\n"
     ]
    }
   ],
   "source": [
    "new_model, train_loss, valid_loss = train_model(model, criterion, optimizer, exp_lr_scheduler, loaders, n_epochs)"
   ]
  },
  {
   "cell_type": "code",
   "execution_count": 18,
   "metadata": {},
   "outputs": [],
   "source": [
    "from sklearn.metrics import confusion_matrix, accuracy_score, precision_score, recall_score, f1_score, roc_auc_score\n",
    "import matplotlib.pyplot as plt\n",
    "import seaborn as sns"
   ]
  },
  {
   "cell_type": "code",
   "execution_count": 19,
   "metadata": {},
   "outputs": [],
   "source": [
    "# 确保模型处于评估模式\n",
    "model.eval()\n",
    "\n",
    "# 收集预测结果\n",
    "all_preds = []\n",
    "all_labels = []\n",
    "with torch.no_grad():\n",
    "    for inputs, labels in test_loader:\n",
    "        inputs, labels = inputs.to(device), labels.to(device)\n",
    "        outputs = model(inputs)\n",
    "        _, preds = torch.max(outputs, 1)\n",
    "        all_preds.extend(preds.cpu().numpy())\n",
    "        all_labels.extend(labels.cpu().numpy())"
   ]
  },
  {
   "cell_type": "code",
   "execution_count": 20,
   "metadata": {},
   "outputs": [
    {
     "name": "stdout",
     "output_type": "stream",
     "text": [
      "Accuracy: 0.9850\n",
      "Precision: 0.9885\n",
      "Recall: 0.9837\n",
      "F1 Score: 0.9858\n"
     ]
    },
    {
     "data": {
      "image/png": "[encoded data removed]",
      "text/plain": [
       "<Figure size 640x480 with 2 Axes>"
      ]
     },
     "metadata": {},
     "output_type": "display_data"
    }
   ],
   "source": [
    "test_classes = ['aca', 'normal', 'scc']\n",
    "# 计算评价指标\n",
    "\n",
    "accuracy = accuracy_score(all_labels, all_preds)\n",
    "precision = precision_score(all_labels, all_preds, average='macro')\n",
    "recall = recall_score(all_labels, all_preds, average='macro')\n",
    "f1 = f1_score(all_labels, all_preds, average='macro')\n",
    "\n",
    "# 打印评价指标\n",
    "print(f'Accuracy: {accuracy:.4f}')\n",
    "print(f'Precision: {precision:.4f}')\n",
    "print(f'Recall: {recall:.4f}')\n",
    "print(f'F1 Score: {f1:.4f}')\n",
    "\n",
    "# 计算混淆矩阵\n",
    "conf_mat = confusion_matrix(all_labels, all_preds)\n",
    "\n",
    "# 可视化混淆矩阵\n",
    "sns.heatmap(conf_mat, fmt='g', annot=True, cmap='Blues', xticklabels=test_classes, yticklabels=test_classes)\n",
    "plt.xlabel('Predictions')\n",
    "plt.ylabel('True label')\n",
    "plt.title('Confusion Matrix')\n",
    "plt.xticks(rotation=45)  # 旋转x轴标签以便更容易阅读\n",
    "plt.yticks(rotation=45)  # 旋转y轴标签以便更容易阅读\n",
    "plt.show()"
   ]
  }
 ],
 "metadata": {
  "kernelspec": {
   "display_name": "PENG",
   "language": "python",
   "name": "python3"
  },
  "language_info": {
   "codemirror_mode": {
    "name": "ipython",
    "version": 3
   },
   "file_extension": ".py",
   "mimetype": "text/x-python",
   "name": "python",
   "nbconvert_exporter": "python",
   "pygments_lexer": "ipython3",
   "version": "3.9.18"
  }
 },
 "nbformat": 4,
 "nbformat_minor": 2
}
